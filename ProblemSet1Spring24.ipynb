{
  "nbformat": 4,
  "nbformat_minor": 0,
  "metadata": {
    "colab": {
      "provenance": [],
      "include_colab_link": true
    },
    "kernelspec": {
      "name": "python3",
      "display_name": "Python 3"
    },
    "language_info": {
      "name": "python"
    }
  },
  "cells": [
    {
      "cell_type": "markdown",
      "metadata": {
        "id": "view-in-github",
        "colab_type": "text"
      },
      "source": [
        "<a href=\"https://colab.research.google.com/github/nmh102/BTE-320/blob/main/ProblemSet1Spring24.ipynb\" target=\"_parent\"><img src=\"https://colab.research.google.com/assets/colab-badge.svg\" alt=\"Open In Colab\"/></a>"
      ]
    },
    {
      "cell_type": "markdown",
      "source": [
        "# Problem Set 2"
      ],
      "metadata": {
        "id": "mqKVIuY-mxNU"
      }
    },
    {
      "cell_type": "markdown",
      "source": [
        "## Assignment 1: Quality Control (7 points)\n",
        "\n",
        "A quality control manager would like to find the average weight of a list of weights. Prior experience indicates that the first two measures are atypical, and the practice is to exclude these from the average calculation.\n",
        "\n",
        "Write a program that calculates the average of a list of numbers that given as inputs from the user, excluding the first three values.\n",
        "\n",
        "For your program, you must define and use the following functions:\n",
        "- `getValues(n)`: Prompt the user for `n` values, returns the list\n",
        "- `calcAverage(alist)`: Calculates the average from the list"
      ],
      "metadata": {
        "id": "-RSYW1jVm08n"
      }
    },
    {
      "cell_type": "code",
      "execution_count": 1,
      "metadata": {
        "id": "AqbgJkgNmvQw",
        "colab": {
          "base_uri": "https://localhost:8080/"
        },
        "outputId": "a7ec333d-fd21-4c6d-e876-c2e0dc7d1b3d"
      },
      "outputs": [
        {
          "output_type": "stream",
          "name": "stdout",
          "text": [
            "Enter number of weights you want to average: 4\n",
            "Enter Weight: 50\n",
            "Enter Weight: 30\n",
            "Enter Weight: 4\n",
            "Enter Weight: 12\n",
            "The average of the list is: 8.0\n"
          ]
        }
      ],
      "source": [
        "def getValues(n):\n",
        "  x = 0\n",
        "\n",
        "  list1 = []\n",
        "  while x < n:\n",
        "    weight = float(input('Enter Weight: '))\n",
        "    list1.append(weight)\n",
        "    x+=1\n",
        "  return list1\n",
        "\n",
        "\n",
        "def calcAverage(alist):\n",
        "  sum = 0\n",
        "  newlist = alist[2:]\n",
        "  length = len(newlist)\n",
        "\n",
        "  for a in newlist:\n",
        "    sum = sum + a\n",
        "  average = sum/length\n",
        "  return round(average,2)\n",
        "\n",
        "\n",
        "n_value = int(input('Enter number of weights you want to average: '))\n",
        "c = getValues(n_value)\n",
        "avg = calcAverage(c)\n",
        "print(f'The average of the list is: {avg}')"
      ]
    },
    {
      "cell_type": "markdown",
      "source": [
        "## Assignment 2: Country Statistics Lookup-Multiple Measures (6 points)\n",
        "\n",
        "Assume a program begins with the statement:\n",
        "\n",
        "```python\n",
        "allData = { # dictionary of values for countries\n",
        "    'US': {'pop':325.7, 'gdp': 19.39, 'ccy': 'USD', 'fx':  1.0},\n",
        "    'CA': {'pop': 36.5, 'gdp':  1.65, 'ccy': 'CAD', 'fx':  1.35},\n",
        "    'MX': {'pop':129.2, 'gdp':  1.15, 'ccy': 'MXN', 'fx': 19.68}\n",
        "    }\n",
        "```\n",
        "\n",
        "Write subsequent statements that (in a loop) prompt the user for a country code (`US`, `CA`, or `MX`), then prompt for a measure name (`pop`, `gdp`, `ccy`, or `fx`), then look up in the above dictionary for the corresponding value, and display it.\n",
        "\n",
        "Example run:\n",
        "```\n",
        "Please enter a country code: CA\n",
        "Please enter a statistic: pop\n",
        "CA pop = 36.5\n",
        "```\n",
        "\n",
        "Your program should handle the cases where a user-entered country code or measure name is not found."
      ],
      "metadata": {
        "id": "QFO0Kzx8ncnv"
      }
    },
    {
      "cell_type": "code",
      "source": [
        "allData = { # dictionary of values for countries\n",
        "    'US': {'pop':325.7, 'gdp': 19.39, 'ccy': 'USD', 'fx':  1.0},\n",
        "    'CA': {'pop': 36.5, 'gdp':  1.65, 'ccy': 'CAD', 'fx':  1.35},\n",
        "    'MX': {'pop':129.2, 'gdp':  1.15, 'ccy': 'MXN', 'fx': 19.68}\n",
        "    }\n",
        "\n",
        "while True:\n",
        "  country = input(\"Please enter a country code:\")\n",
        "  if country not in allData.keys():\n",
        "      continue\n",
        "\n",
        "  statistic = input(\"Please enter a statistic:\")\n",
        "  if statistic not in allData[country].keys():\n",
        "      continue\n",
        "\n",
        "  if statistic == 'pop':\n",
        "    print(f'Population: {allData[country][statistic]} million people')\n",
        "\n",
        "  elif statistic == 'gdp':\n",
        "    print(f'GDP: ${allData[country][statistic]} trillion')\n",
        "\n",
        "  else:\n",
        "    print(f'FX: {allData[country][statistic]}')\n",
        "\n",
        "  Continue = input('Do you want to continue? (y/n)')\n",
        "  if Continue == 'n':\n",
        "    break"
      ],
      "metadata": {
        "id": "NZFjRINKowEW",
        "colab": {
          "base_uri": "https://localhost:8080/"
        },
        "outputId": "264edb59-adb3-4599-e80e-80caf0d783bc"
      },
      "execution_count": 17,
      "outputs": [
        {
          "name": "stdout",
          "output_type": "stream",
          "text": [
            "Please enter a country code:US\n",
            "Please enter a statistic:gdp\n",
            "GDP: $19.39 trillion\n",
            "Do you want to continue? (y/n)n\n"
          ]
        }
      ]
    },
    {
      "cell_type": "markdown",
      "source": [
        "## Assignment 3: Parking Garage (6 points)\n",
        "\n",
        "Write a program to compute the fee for parking in a garage for a number of hours.\n",
        "\n",
        "The program should:\n",
        "- Prompt the user for how many hours parked\n",
        "- Calculate the fee based on the following rules:\n",
        "  - $2.50/hour\n",
        "\n",
        "  - minimum fee is $6.00\n",
        "\n",
        "  - maximum fee is $20.00\n",
        "- Print the result\n",
        "\n",
        "For your program, define and use the following two functions:\n",
        "```python\n",
        "# use input() to prompt for the # of hours parked, return this value\n",
        "def getParkingHours()\n",
        "\n",
        "# takes as input hours (a number), returns the parking fee\n",
        "def calcParkingFee()\n",
        "```"
      ],
      "metadata": {
        "id": "GjaUFrnfpKFf"
      }
    },
    {
      "cell_type": "code",
      "source": [
        "def getParkingHours():\n",
        "  Hours = float(input(\"How many hours do you want to park?\"))\n",
        "  return Hours\n",
        "\n",
        "def calcParkingFee():\n",
        "  Fee = getParkingHours() * 2.5\n",
        "  if Fee < 6:\n",
        "    Fee = 6\n",
        "  elif Fee > 20:\n",
        "    Fee = 20\n",
        "  return Fee\n",
        "\n",
        "print(\"Fee: $\",calcParkingFee(),sep=\"\")\n"
      ],
      "metadata": {
        "id": "5ha4O3V5pwNN",
        "colab": {
          "base_uri": "https://localhost:8080/"
        },
        "outputId": "2a7c8023-8814-4ae2-fcb3-55491fbd36b8"
      },
      "execution_count": null,
      "outputs": [
        {
          "output_type": "stream",
          "name": "stdout",
          "text": [
            "How many hours do you want to park?5\n",
            "Fee: $12.5\n"
          ]
        }
      ]
    },
    {
      "cell_type": "markdown",
      "source": [
        "## Assignment 4: Tuition (6 points)\n",
        "\n",
        "A college charges tuition according to the following:\n",
        "- 12 or more credits: $20,000/semester\n",
        "\n",
        "- 1-11 credits: $1,200 + $1,700 per credit\n",
        "\n",
        "Write a program that prompts the user for a number of credits and determines and displays the tuition for the semester. As part of your program, define and use the following function:\n",
        "```python\n",
        "def calcTuition(credits)\n",
        "```\n",
        "The function returns the tuition for a given number of credits"
      ],
      "metadata": {
        "id": "gipBObe5qm-2"
      }
    },
    {
      "cell_type": "code",
      "source": [
        "def calcTuition(credits):\n",
        "  if credits == 0:\n",
        "    print(\"Invalid number of credits\")\n",
        "    return 0\n",
        "  elif credits <= 11:\n",
        "    return 1200 + (1700*credits)\n",
        "  elif credits > 11:\n",
        "    return 20000\n",
        "\n",
        "n_credits=int(input(\"How many credits are you taking this semester?\"))\n",
        "print(f'Tuition Charge: ${calcTuition(n_credits)}')"
      ],
      "metadata": {
        "id": "BPcn9ywzrL8y",
        "colab": {
          "base_uri": "https://localhost:8080/"
        },
        "outputId": "335ee1aa-f377-46d0-a346-719bad6639b5"
      },
      "execution_count": 33,
      "outputs": [
        {
          "output_type": "stream",
          "name": "stdout",
          "text": [
            "How many credits are you taking this semester?3\n",
            "Tuition Charge: $6300\n"
          ]
        }
      ]
    }
  ]
}