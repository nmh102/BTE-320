{
  "nbformat": 4,
  "nbformat_minor": 0,
  "metadata": {
    "colab": {
      "provenance": [],
      "authorship_tag": "ABX9TyNn++XS3mzdh/VO5/ty2vN6",
      "include_colab_link": true
    },
    "kernelspec": {
      "name": "python3",
      "display_name": "Python 3"
    },
    "language_info": {
      "name": "python"
    }
  },
  "cells": [
    {
      "cell_type": "markdown",
      "metadata": {
        "id": "view-in-github",
        "colab_type": "text"
      },
      "source": [
        "<a href=\"https://colab.research.google.com/github/nmh102/BTE-320/blob/main/Class_Example.ipynb\" target=\"_parent\"><img src=\"https://colab.research.google.com/assets/colab-badge.svg\" alt=\"Open In Colab\"/></a>"
      ]
    },
    {
      "cell_type": "code",
      "execution_count": 2,
      "metadata": {
        "colab": {
          "base_uri": "https://localhost:8080/"
        },
        "id": "-9us7WuaFmjX",
        "outputId": "0ede3ed7-0a9a-4eb7-cbce-905d0c2bad1c"
      },
      "outputs": [
        {
          "output_type": "stream",
          "name": "stdout",
          "text": [
            "5.0\n"
          ]
        }
      ],
      "source": [
        "class Point:\n",
        "  def __init__(self, x, y):\n",
        "    self.x = x\n",
        "    self.y = y\n",
        "\n",
        "  def distance(self, other):\n",
        "    x_diff = (self.x - other.x) ** 2\n",
        "    y_diff = (self.y - other.y) ** 2\n",
        "    return(x_diff + y_diff)**0.5\n",
        "\n",
        "class Point3D(Point): #Showing the concept of inheritance, Point3D is child class and will inherit everything from parent class (point)\n",
        "  def __init__(self,x,y,z): #connects x,y then adds z to be in child\n",
        "    super().__init__ #calls explicitly the constructor of the parent\n",
        "    self.z = z\n",
        "\n",
        "p1=Point(3,4)\n",
        "p2=Point(6,8)\n",
        "print(p1.distance(p2))"
      ]
    }
  ]
}