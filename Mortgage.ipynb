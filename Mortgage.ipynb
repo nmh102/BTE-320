{
  "nbformat": 4,
  "nbformat_minor": 0,
  "metadata": {
    "colab": {
      "provenance": [],
      "authorship_tag": "ABX9TyPHfNkeZBkdhFWybJoDi83a",
      "include_colab_link": true
    },
    "kernelspec": {
      "name": "python3",
      "display_name": "Python 3"
    },
    "language_info": {
      "name": "python"
    }
  },
  "cells": [
    {
      "cell_type": "markdown",
      "metadata": {
        "id": "view-in-github",
        "colab_type": "text"
      },
      "source": [
        "<a href=\"https://colab.research.google.com/github/nmh102/BTE-320/blob/main/Mortgage.ipynb\" target=\"_parent\"><img src=\"https://colab.research.google.com/assets/colab-badge.svg\" alt=\"Open In Colab\"/></a>"
      ]
    },
    {
      "cell_type": "code",
      "execution_count": 1,
      "metadata": {
        "id": "aacVqkHUx_1T"
      },
      "outputs": [],
      "source": [
        "class Mortgage:\n",
        "  def __init__(self, amount, maturity, interest):\n",
        "    self.amount = amount\n",
        "    self.maturity = maturity\n",
        "    self._interest = interest\n",
        "\n",
        "  def __str__(self,):\n",
        "    return f'Mortgage info:\\n Initial Loan amount: ${self.amount} \\n Maturity term: {self.maturity} years\\n Interest rate: {self._interest} % '\n",
        "\n",
        "  def get_interest(self):\n",
        "    return self._interest\n",
        "\n",
        "  def set_interest(self, newInterest):\n",
        "    if newInterest >= 0:\n",
        "      self._interest = newInterest\n",
        "    else:\n",
        "      print('Interest values must be non-negative!')\n",
        "\n",
        "  def payment(self):\n",
        "    return (self.amount) * ((self._interest/100)*((1+(self._interest/100))**(self.maturity*12))) / (((1+(self._interest/100))**(self.maturity*12))-1)\n",
        "\n",
        "m = Mortgage(100000,30,6)\n"
      ]
    },
    {
      "cell_type": "code",
      "source": [
        "print(m)"
      ],
      "metadata": {
        "colab": {
          "base_uri": "https://localhost:8080/"
        },
        "id": "8vJYcznNycLU",
        "outputId": "666fe68a-6c6f-4cd3-fa6d-2ed4d23c1b02"
      },
      "execution_count": 2,
      "outputs": [
        {
          "output_type": "stream",
          "name": "stdout",
          "text": [
            "Mortgage info:\n",
            " Initial Loan amount: $100000 \n",
            " Maturity term: 30 years\n",
            " Interest rate: 6 % \n"
          ]
        }
      ]
    },
    {
      "cell_type": "code",
      "source": [
        "m.payment()"
      ],
      "metadata": {
        "colab": {
          "base_uri": "https://localhost:8080/"
        },
        "id": "mqBvWwVcydfS",
        "outputId": "76a10492-9f87-4181-eb67-025d32013fdf"
      },
      "execution_count": 3,
      "outputs": [
        {
          "output_type": "execute_result",
          "data": {
            "text/plain": [
              "6000.000004656286"
            ]
          },
          "metadata": {},
          "execution_count": 3
        }
      ]
    }
  ]
}