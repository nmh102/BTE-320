{
  "nbformat": 4,
  "nbformat_minor": 0,
  "metadata": {
    "colab": {
      "provenance": [],
      "authorship_tag": "ABX9TyO3xVRt2C7YVDaFBS8csXjR",
      "include_colab_link": true
    },
    "kernelspec": {
      "name": "python3",
      "display_name": "Python 3"
    },
    "language_info": {
      "name": "python"
    }
  },
  "cells": [
    {
      "cell_type": "markdown",
      "metadata": {
        "id": "view-in-github",
        "colab_type": "text"
      },
      "source": [
        "<a href=\"https://colab.research.google.com/github/nmh102/BTE-320/blob/main/Date.ipynb\" target=\"_parent\"><img src=\"https://colab.research.google.com/assets/colab-badge.svg\" alt=\"Open In Colab\"/></a>"
      ]
    },
    {
      "cell_type": "code",
      "execution_count": 7,
      "metadata": {
        "colab": {
          "base_uri": "https://localhost:8080/"
        },
        "id": "PG7CBzHSw3g-",
        "outputId": "802db3c4-e7a6-408a-f329-b69d642039bc"
      },
      "outputs": [
        {
          "output_type": "stream",
          "name": "stdout",
          "text": [
            "Input a date in format: MM/DD/YYYY05/28/2022\n",
            "Month is: 05\n",
            "Day is: 28\n",
            "Year is: 2022\n"
          ]
        }
      ],
      "source": [
        "#Write a program that takes as input from the keyboard a string that corresponds to\n",
        "# a date (e.g, 02/20/2024) in the format: MM/DD/YYYY\n",
        "# Use operator discussed to get three separate variables, one that creates month, one that creates day, one that creates year.\n",
        "\n",
        "date=input(\"Input a date in format: MM/DD/YYYY\")\n",
        "month=date[0:2:1]\n",
        "day=date[3:5:1]\n",
        "year=date[6:len(date):1]\n",
        "print(f'Month is: {month}')\n",
        "print(f'Day is: {day}')\n",
        "print(f'Year is: {year}')\n"
      ]
    }
  ]
}