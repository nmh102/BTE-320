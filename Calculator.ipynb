{
  "cells": [
    {
      "cell_type": "markdown",
      "metadata": {
        "id": "view-in-github",
        "colab_type": "text"
      },
      "source": [
        "<a href=\"https://colab.research.google.com/github/nmh102/BTE-320/blob/main/Calculator.ipynb\" target=\"_parent\"><img src=\"https://colab.research.google.com/assets/colab-badge.svg\" alt=\"Open In Colab\"/></a>"
      ]
    },
    {
      "cell_type": "code",
      "execution_count": null,
      "metadata": {
        "colab": {
          "background_save": true,
          "base_uri": "https://localhost:8080/"
        },
        "id": "i4Ol34vdvYM-",
        "outputId": "7190efca-3467-4623-d585-4f98898b70af"
      },
      "outputs": [
        {
          "name": "stdout",
          "output_type": "stream",
          "text": [
            "9.0//2.0=4.0\n",
            "9.0 modulo 2.0=1.0\n"
          ]
        }
      ],
      "source": [
        "while True:\n",
        "  operator = input('Enter mathematical operator:')\n",
        "\n",
        "  if operator =='break':\n",
        "    break\n",
        "\n",
        "  num1=float(input('Enter first number:'))\n",
        "  num2=float(input('Enter second number:'))\n",
        "\n",
        "  if operator == '+':\n",
        "    print(f'{num1}+{num2}={num1 + num2}')\n",
        "  elif operator == '-':\n",
        "    print(f'{num1}-{num2}={num1 - num2}')\n",
        "  elif operator == '*':\n",
        "    print(f'{num1}*{num2}={num1 * num2}')\n",
        "  elif operator == '**':\n",
        "    print(f'{num1}**{num2}={num1 ** num2}')\n",
        "  elif operator == '/':\n",
        "    print(f'{num1}/{num2}={num1 / num2}')\n",
        "  elif operator == '//':\n",
        "    print(f'{num1}//{num2}={num1 // num2}')\n",
        "  elif operator == '%':\n",
        "    print(f'{num1} modulo {num2}={num1 % num2}')\n",
        "  else:\n",
        "    print('invalid operator:', operator)\n",
        "    continue\n"
      ]
    }
  ],
  "metadata": {
    "colab": {
      "provenance": [],
      "authorship_tag": "ABX9TyNk5yBH6DRGvv9MRgr+vXpR",
      "include_colab_link": true
    },
    "kernelspec": {
      "display_name": "Python 3",
      "name": "python3"
    },
    "language_info": {
      "name": "python"
    }
  },
  "nbformat": 4,
  "nbformat_minor": 0
}