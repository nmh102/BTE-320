{
  "nbformat": 4,
  "nbformat_minor": 0,
  "metadata": {
    "colab": {
      "provenance": [],
      "authorship_tag": "ABX9TyOZ3qttFo6bfjfda3fGbLFv",
      "include_colab_link": true
    },
    "kernelspec": {
      "name": "python3",
      "display_name": "Python 3"
    },
    "language_info": {
      "name": "python"
    }
  },
  "cells": [
    {
      "cell_type": "markdown",
      "metadata": {
        "id": "view-in-github",
        "colab_type": "text"
      },
      "source": [
        "<a href=\"https://colab.research.google.com/github/nmh102/BTE-320/blob/main/ListCreator.ipynb\" target=\"_parent\"><img src=\"https://colab.research.google.com/assets/colab-badge.svg\" alt=\"Open In Colab\"/></a>"
      ]
    },
    {
      "cell_type": "code",
      "execution_count": 8,
      "metadata": {
        "colab": {
          "base_uri": "https://localhost:8080/"
        },
        "id": "JaVYNV1lrREz",
        "outputId": "a917b1b3-20ec-4815-c853-e8b385a920c8"
      },
      "outputs": [
        {
          "output_type": "stream",
          "name": "stdout",
          "text": [
            "Enter an integer to append to the list: 1\n",
            "Here is your current list: [1]\n",
            "Enter an integer to append to the list: 2\n",
            "Here is your current list: [1, 2]\n",
            "Enter an integer to append to the list: 3\n",
            "Here is your current list: [1, 2, 3]\n",
            "Enter an integer to append to the list: 4\n",
            "Here is your current list: [1, 2, 3, 4]\n",
            "Enter an integer to append to the list: 5\n",
            "Here is your current list: [1, 2, 3, 4, 5]\n",
            "Enter an integer to append to the list: 0\n",
            "Here is your list: [1, 2, 3, 4, 5]\n"
          ]
        }
      ],
      "source": [
        "List = []\n",
        "while True:\n",
        "  userinput = int(input('Enter an integer to append to the list: '))\n",
        "  if userinput == 0:\n",
        "    break\n",
        "  List.append(userinput)\n",
        "  print(f'Here is your current list: {List}')\n",
        "\n",
        "print(f'Here is your list: {List}')"
      ]
    }
  ]
}