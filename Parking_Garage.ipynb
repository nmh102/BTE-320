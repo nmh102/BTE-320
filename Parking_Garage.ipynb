{
  "nbformat": 4,
  "nbformat_minor": 0,
  "metadata": {
    "colab": {
      "provenance": [],
      "authorship_tag": "ABX9TyN9u9KH697CauJyQyoFpb24",
      "include_colab_link": true
    },
    "kernelspec": {
      "name": "python3",
      "display_name": "Python 3"
    },
    "language_info": {
      "name": "python"
    }
  },
  "cells": [
    {
      "cell_type": "markdown",
      "metadata": {
        "id": "view-in-github",
        "colab_type": "text"
      },
      "source": [
        "<a href=\"https://colab.research.google.com/github/nmh102/BTE-320/blob/main/Parking_Garage.ipynb\" target=\"_parent\"><img src=\"https://colab.research.google.com/assets/colab-badge.svg\" alt=\"Open In Colab\"/></a>"
      ]
    },
    {
      "cell_type": "code",
      "execution_count": 1,
      "metadata": {
        "id": "kTsNxuIykjYk",
        "outputId": "b5f43d78-d8ba-465e-9850-f9d2af2b6ef2",
        "colab": {
          "base_uri": "https://localhost:8080/"
        }
      },
      "outputs": [
        {
          "output_type": "stream",
          "name": "stdout",
          "text": [
            "# of Hours: 1, Price: $7.5\n",
            "# of Hours: 2, Price: $10.0\n",
            "# of Hours: 3, Price: $12.5\n",
            "# of Hours: 4, Price: $15.0\n",
            "# of Hours: 5, Price: $17.5\n",
            "# of Hours: 6, Price: $20.0\n",
            "# of Hours: 7, Price: $22.5\n",
            "# of Hours: 8, Price: $25.0\n"
          ]
        }
      ],
      "source": [
        "#Parking Garage Example\n",
        "import numpy as np\n",
        "count=0\n",
        "for i in np.arange(7.50,27.50,2.50):\n",
        "  count=count+1\n",
        "  print(f'# of Hours: {count}, Price: ${i}')"
      ]
    }
  ]
}