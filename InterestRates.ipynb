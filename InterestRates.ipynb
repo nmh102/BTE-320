{
  "nbformat": 4,
  "nbformat_minor": 0,
  "metadata": {
    "colab": {
      "provenance": [],
      "authorship_tag": "ABX9TyMIzB95hMqR67FL6i0B2YaB",
      "include_colab_link": true
    },
    "kernelspec": {
      "name": "python3",
      "display_name": "Python 3"
    },
    "language_info": {
      "name": "python"
    }
  },
  "cells": [
    {
      "cell_type": "markdown",
      "metadata": {
        "id": "view-in-github",
        "colab_type": "text"
      },
      "source": [
        "<a href=\"https://colab.research.google.com/github/nmh102/BTE-320/blob/main/InterestRates.ipynb\" target=\"_parent\"><img src=\"https://colab.research.google.com/assets/colab-badge.svg\" alt=\"Open In Colab\"/></a>"
      ]
    },
    {
      "cell_type": "code",
      "execution_count": 7,
      "metadata": {
        "colab": {
          "base_uri": "https://localhost:8080/"
        },
        "id": "WOTRJ8zTo0u0",
        "outputId": "017cb9c4-8115-4878-dfeb-86780e844f7d"
      },
      "outputs": [
        {
          "output_type": "stream",
          "name": "stdout",
          "text": [
            "Hi, please enter your name:Frank\n",
            "Enter customer type(n: new, e: existing):e\n",
            "Enter deposit amount: $1500\n",
            "Frank, you will have $1548.75 in your account in 1 year!\n"
          ]
        }
      ],
      "source": [
        "Name = input('Hi, please enter your name:')\n",
        "Customer_type = input('Enter customer type(n: new, e: existing):')\n",
        "Deposit = float(input('Enter deposit amount: $'))\n",
        "\n",
        "if Customer_type == 'n':\n",
        "  Interest = 0.03\n",
        "else:\n",
        "  if Deposit <= 1000:\n",
        "    Interest = float(0.03)\n",
        "  elif Deposit <= 10000:\n",
        "    Interest = float(0.0325)\n",
        "  elif Deposit > 10000:\n",
        "    Interest = float(0.035)\n",
        "\n",
        "Amount = (1+Interest) * Deposit\n",
        "print(f'{Name}, you will have ${round(Amount,2)} in your account in 1 year!')"
      ]
    }
  ]
}